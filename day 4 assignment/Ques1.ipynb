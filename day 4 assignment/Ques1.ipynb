{
  "nbformat": 4,
  "nbformat_minor": 0,
  "metadata": {
    "colab": {
      "name": "Ques1.ipynb",
      "provenance": []
    },
    "kernelspec": {
      "name": "python3",
      "display_name": "Python 3"
    }
  },
  "cells": [
    {
      "cell_type": "markdown",
      "metadata": {
        "id": "W1F3hGEI2tHs",
        "colab_type": "text"
      },
      "source": [
        "**Opeartions on complex numbers:**\n",
        "\n",
        "\n",
        "\n",
        "Addition , substraction , multiplication and division can be performed on complex numbers.Whereas floor Division and modulo cannot be implemented on complex numbers."
      ]
    },
    {
      "cell_type": "code",
      "metadata": {
        "id": "yUxv6Y1X1Hu0",
        "colab_type": "code",
        "colab": {
          "base_uri": "https://localhost:8080/",
          "height": 85
        },
        "outputId": "98c2166a-14c9-4e7d-f649-c6279639c62d"
      },
      "source": [
        "a = 2+3j\n",
        "b = 3+2j\n",
        "print(\"Addition of number is\",a+b)\n",
        "print(\"substraction of number is\",a-b)\n",
        "print(\"Multiplication of number is\",a*b)\n",
        "print(\"division of number is\",a/b)"
      ],
      "execution_count": 7,
      "outputs": [
        {
          "output_type": "stream",
          "text": [
            "Adion of number is (5+5j)\n",
            "substraction of number is (-1+1j)\n",
            "Multiplication of number is 13j\n",
            "division of number is (0.9230769230769231+0.38461538461538464j)\n"
          ],
          "name": "stdout"
        }
      ]
    },
    {
      "cell_type": "code",
      "metadata": {
        "id": "BY0H-62l2i1q",
        "colab_type": "code",
        "colab": {}
      },
      "source": [
        ""
      ],
      "execution_count": 8,
      "outputs": []
    }
  ]
}