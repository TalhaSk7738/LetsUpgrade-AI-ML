{
  "nbformat": 4,
  "nbformat_minor": 0,
  "metadata": {
    "colab": {
      "name": "Ques3.ipynb",
      "provenance": [],
      "collapsed_sections": []
    },
    "kernelspec": {
      "name": "python3",
      "display_name": "Python 3"
    }
  },
  "cells": [
    {
      "cell_type": "markdown",
      "metadata": {
        "id": "0qWnPRo_934G",
        "colab_type": "text"
      },
      "source": [
        "**List and For Loop**"
      ]
    },
    {
      "cell_type": "code",
      "metadata": {
        "id": "JjiuoDSw6und",
        "colab_type": "code",
        "colab": {
          "base_uri": "https://localhost:8080/",
          "height": 119
        },
        "outputId": "5932bca0-7415-4b1a-db99-36c5e37a11a1"
      },
      "source": [
        "l = [1,2,3,4,5,6,7,8,9,10]\n",
        "print(\"List is\",l)\n",
        "for i in l:\n",
        "  if(i%2==0):\n",
        "    print(\"square of\",i,\"minus two is =\",(i**2)-2)\n",
        "  "
      ],
      "execution_count": 39,
      "outputs": [
        {
          "output_type": "stream",
          "text": [
            "List is [1, 2, 3, 4, 5, 6, 7, 8, 9, 10]\n",
            "square of 2 minus two is = 2\n",
            "square of 4 minus two is = 14\n",
            "square of 6 minus two is = 34\n",
            "square of 8 minus two is = 62\n",
            "square of 10 minus two is = 98\n"
          ],
          "name": "stdout"
        }
      ]
    }
  ]
}