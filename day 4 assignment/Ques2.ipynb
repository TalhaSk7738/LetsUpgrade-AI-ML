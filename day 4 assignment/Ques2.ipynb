{
  "nbformat": 4,
  "nbformat_minor": 0,
  "metadata": {
    "colab": {
      "name": "Ques2.ipynb",
      "provenance": []
    },
    "kernelspec": {
      "name": "python3",
      "display_name": "Python 3"
    }
  },
  "cells": [
    {
      "cell_type": "markdown",
      "metadata": {
        "id": "Novq39lAD_bI",
        "colab_type": "text"
      },
      "source": [
        "The range() function returns the sequence of numbers, starting from 0 by default, and increments by 1 (by default), and stops before a specified number.\n",
        "\n",
        "\n",
        "\n",
        "---\n",
        "\n",
        "**syntax of range**\n",
        "\n",
        " *range(start, stop, step)*\n",
        "\n",
        "where,\n",
        "start = An integer number specifying at which position to start. Default is 0.{optional}\n",
        "\n",
        "stop\t= An integer number specifying at which position to stop (not included).{required}\n",
        "\n",
        "\n",
        "step\t= An integer number specifying the incrementation. Default is 1.{optional}\n",
        "\n"
      ]
    },
    {
      "cell_type": "code",
      "metadata": {
        "id": "MeSns084EnoG",
        "colab_type": "code",
        "colab": {
          "base_uri": "https://localhost:8080/",
          "height": 187
        },
        "outputId": "94f27f77-1a34-4f4b-d97e-7d19e6784d56"
      },
      "source": [
        "list = range(10)\n",
        "for i in list:\n",
        "  print(i)"
      ],
      "execution_count": 2,
      "outputs": [
        {
          "output_type": "stream",
          "text": [
            "0\n",
            "1\n",
            "2\n",
            "3\n",
            "4\n",
            "5\n",
            "6\n",
            "7\n",
            "8\n",
            "9\n"
          ],
          "name": "stdout"
        }
      ]
    },
    {
      "cell_type": "code",
      "metadata": {
        "id": "MjZAAnmkDwus",
        "colab_type": "code",
        "colab": {
          "base_uri": "https://localhost:8080/",
          "height": 153
        },
        "outputId": "fdf710c1-c091-41f0-e871-5d0cc0dd9dcb"
      },
      "source": [
        "a = range(2,10)\n",
        "for i in a:\n",
        "  print(i)"
      ],
      "execution_count": 4,
      "outputs": [
        {
          "output_type": "stream",
          "text": [
            "2\n",
            "3\n",
            "4\n",
            "5\n",
            "6\n",
            "7\n",
            "8\n",
            "9\n"
          ],
          "name": "stdout"
        }
      ]
    },
    {
      "cell_type": "code",
      "metadata": {
        "id": "zauy-LDiFILn",
        "colab_type": "code",
        "colab": {
          "base_uri": "https://localhost:8080/",
          "height": 153
        },
        "outputId": "3c8c4b6d-908a-49a9-8eed-6a8226e191c3"
      },
      "source": [
        "x = range(4, 20 , 2)\n",
        "for i in x:\n",
        "  print(i)"
      ],
      "execution_count": 5,
      "outputs": [
        {
          "output_type": "stream",
          "text": [
            "4\n",
            "6\n",
            "8\n",
            "10\n",
            "12\n",
            "14\n",
            "16\n",
            "18\n"
          ],
          "name": "stdout"
        }
      ]
    }
  ]
}