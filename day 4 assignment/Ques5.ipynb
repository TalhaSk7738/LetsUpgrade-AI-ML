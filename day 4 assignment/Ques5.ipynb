{
  "nbformat": 4,
  "nbformat_minor": 0,
  "metadata": {
    "colab": {
      "name": "Ques5.ipynb",
      "provenance": [],
      "collapsed_sections": []
    },
    "kernelspec": {
      "name": "python3",
      "display_name": "Python 3"
    }
  },
  "cells": [
    {
      "cell_type": "markdown",
      "metadata": {
        "id": "0qWnPRo_934G",
        "colab_type": "text"
      },
      "source": [
        "**List and For Loop and if condition**"
      ]
    },
    {
      "cell_type": "code",
      "metadata": {
        "id": "t-95kz4hAI7K",
        "colab_type": "code",
        "colab": {
          "base_uri": "https://localhost:8080/",
          "height": 85
        },
        "outputId": "3687f8c3-884d-4e22-88ae-2e1becb1d691"
      },
      "source": [
        "l = [1,2,3,4,5,6,7,80,90,100]\n",
        "print(\"List is\",l)\n",
        "for i in l:\n",
        "  if(i/2>7):\n",
        "    print(\"number which are greater than 7 after dividing with 2 is \",i, \"i.e,\",i/2)\n"
      ],
      "execution_count": 64,
      "outputs": [
        {
          "output_type": "stream",
          "text": [
            "List is [1, 2, 3, 4, 5, 6, 7, 80, 90, 100]\n",
            "number which are greater than 7 after dividing with 2 is  80 i.e, 40.0\n",
            "number which are greater than 7 after dividing with 2 is  90 i.e, 45.0\n",
            "number which are greater than 7 after dividing with 2 is  100 i.e, 50.0\n"
          ],
          "name": "stdout"
        }
      ]
    },
    {
      "cell_type": "code",
      "metadata": {
        "id": "JjiuoDSw6und",
        "colab_type": "code",
        "colab": {
          "base_uri": "https://localhost:8080/",
          "height": 68
        },
        "outputId": "7b419ed8-0b9b-4331-e31d-5c91681294d3"
      },
      "source": [
        "l = [1,2,3,4,5,6,7,8,9,10]\n",
        "print(\"List is\",l)\n",
        "for i in l:\n",
        "  if(i>7 and i%2==0):\n",
        "    print(i)\n",
        "  "
      ],
      "execution_count": 45,
      "outputs": [
        {
          "output_type": "stream",
          "text": [
            "List is [1, 2, 3, 4, 5, 6, 7, 8, 9, 10]\n",
            "8\n",
            "10\n"
          ],
          "name": "stdout"
        }
      ]
    },
    {
      "cell_type": "code",
      "metadata": {
        "id": "cQtQhZMT_MoP",
        "colab_type": "code",
        "colab": {}
      },
      "source": [
        ""
      ],
      "execution_count": null,
      "outputs": []
    }
  ]
}