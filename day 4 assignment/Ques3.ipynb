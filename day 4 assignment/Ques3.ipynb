{
  "nbformat": 4,
  "nbformat_minor": 0,
  "metadata": {
    "colab": {
      "name": "Ques2.ipynb",
      "provenance": [],
      "collapsed_sections": []
    },
    "kernelspec": {
      "name": "python3",
      "display_name": "Python 3"
    }
  },
  "cells": [
    {
      "cell_type": "markdown",
      "metadata": {
        "id": "VB_uC4x_6Eqp",
        "colab_type": "text"
      },
      "source": [
        "**if else Loop**"
      ]
    },
    {
      "cell_type": "code",
      "metadata": {
        "id": "BY0H-62l2i1q",
        "colab_type": "code",
        "colab": {
          "base_uri": "https://localhost:8080/",
          "height": 85
        },
        "outputId": "ca925398-c812-4883-aaf7-1c37cca4110c"
      },
      "source": [
        "a = 22\n",
        "b = 2\n",
        "c = a-b\n",
        "print(\"first number is\",a)\n",
        "print(\"second number is\",b)\n",
        "print(\"a-b is\",c)\n",
        "if c >= 25:\n",
        "  print(\"multiplication of numbers is \",a*b)\n",
        "else:\n",
        "  print(\"division is \",a/b)\n"
      ],
      "execution_count": 12,
      "outputs": [
        {
          "output_type": "stream",
          "text": [
            "first number is 22\n",
            "second number is 2\n",
            "a-b is 20\n",
            "division is  11.0\n"
          ],
          "name": "stdout"
        }
      ]
    },
    {
      "cell_type": "code",
      "metadata": {
        "id": "o9nqdzoK6NOH",
        "colab_type": "code",
        "colab": {
          "base_uri": "https://localhost:8080/",
          "height": 85
        },
        "outputId": "a90a477d-7484-467a-cc09-af48e56975aa"
      },
      "source": [
        "a = 122\n",
        "b = 12\n",
        "c = a-b\n",
        "print(\"first number is\",a)\n",
        "print(\"second number is\",b)\n",
        "print(\"a-b is\",c)\n",
        "if c >= 25:\n",
        "  print(\"multiplication of numbers is \",a*b)\n",
        "else:\n",
        "  print(\"division is \",a/b)"
      ],
      "execution_count": 14,
      "outputs": [
        {
          "output_type": "stream",
          "text": [
            "first number is 122\n",
            "second number is 12\n",
            "a-b is 110\n",
            "multiplication of numbers is  1464\n"
          ],
          "name": "stdout"
        }
      ]
    }
  ]
}