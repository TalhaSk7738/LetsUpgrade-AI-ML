{
  "nbformat": 4,
  "nbformat_minor": 0,
  "metadata": {
    "colab": {
      "name": "Day6.ipynb",
      "provenance": []
    },
    "kernelspec": {
      "name": "python3",
      "display_name": "Python 3"
    }
  },
  "cells": [
    {
      "cell_type": "markdown",
      "metadata": {
        "id": "gtsSLXH4A4cy",
        "colab_type": "text"
      },
      "source": [
        "**Question 1:**\n",
        "\n",
        "Assuming that we have some email addresses in the \"username@companyname.com\" format, please write program\n",
        "to print the company name of a given email address. Both user names and company names are composed of letters\n",
        "only"
      ]
    },
    {
      "cell_type": "code",
      "metadata": {
        "id": "28nwdYHUBK6K",
        "colab_type": "code",
        "colab": {
          "base_uri": "https://localhost:8080/",
          "height": 52
        },
        "outputId": "3d8a1a60-f18d-461b-d9f0-8914e0077168"
      },
      "source": [
        "email = input('Enter you Mail Address: ')\n",
        "company_domain = email.split('@')[1]\n",
        "company_name = company_domain.split('.')[0]\n",
        "print(company_name)"
      ],
      "execution_count": 6,
      "outputs": [
        {
          "output_type": "stream",
          "text": [
            "Enter you Mail Address: rahul@salesforce.com\n",
            "salesforce\n"
          ],
          "name": "stdout"
        }
      ]
    },
    {
      "cell_type": "markdown",
      "metadata": {
        "id": "CZV83TxpBgSJ",
        "colab_type": "text"
      },
      "source": [
        "**Question 2:**\n",
        "\n",
        "Write a program that accepts a comma-separated sequence of words as input and prints the words in a comma\n",
        "separated sequence after sorting them alphabetically.\n"
      ]
    },
    {
      "cell_type": "code",
      "metadata": {
        "id": "GVjyrik1CBSw",
        "colab_type": "code",
        "colab": {
          "base_uri": "https://localhost:8080/",
          "height": 52
        },
        "outputId": "4777295c-d91c-4023-f923-42cfd6c70cf7"
      },
      "source": [
        "input_string = input('Enter Comma Seperated String: ')\n",
        "word_list = input_string.split(',')\n",
        "word_list.sort()\n",
        "print(','.join(word_list))"
      ],
      "execution_count": 11,
      "outputs": [
        {
          "output_type": "stream",
          "text": [
            "Enter Comma Seperated String: without,hello,bag,world\n",
            "bag,hello,without,world\n"
          ],
          "name": "stdout"
        }
      ]
    },
    {
      "cell_type": "markdown",
      "metadata": {
        "id": "1y8-_PT9KpdD",
        "colab_type": "text"
      },
      "source": [
        "**Question 3:**\n",
        "\n",
        "Create your own Jupyter Notebook for Sets.\n",
        "Reference link: https://www.w3schools.com/python/python_sets.asp"
      ]
    },
    {
      "cell_type": "code",
      "metadata": {
        "id": "GUsyoZ4pK0-R",
        "colab_type": "code",
        "colab": {
          "base_uri": "https://localhost:8080/",
          "height": 34
        },
        "outputId": "3d70e9a4-1f7d-45ba-8918-a698a046b744"
      },
      "source": [
        "thisset = {\"apple\", \"banana\", \"cherry\"}\n",
        "print(thisset)"
      ],
      "execution_count": 47,
      "outputs": [
        {
          "output_type": "stream",
          "text": [
            "{'apple', 'cherry', 'banana'}\n"
          ],
          "name": "stdout"
        }
      ]
    },
    {
      "cell_type": "markdown",
      "metadata": {
        "id": "VXgQZFH1LYMW",
        "colab_type": "text"
      },
      "source": [
        "**Access Items**\n",
        "\n",
        "Loop through the set, and print the values:"
      ]
    },
    {
      "cell_type": "code",
      "metadata": {
        "id": "7WoyvCb6LFZA",
        "colab_type": "code",
        "colab": {
          "base_uri": "https://localhost:8080/",
          "height": 70
        },
        "outputId": "612f22bc-b195-408f-afa4-bb4836e0c399"
      },
      "source": [
        "thisset = {\"apple\", \"banana\", \"cherry\"}\n",
        "\n",
        "for x in thisset:\n",
        "  print(x)"
      ],
      "execution_count": 48,
      "outputs": [
        {
          "output_type": "stream",
          "text": [
            "apple\n",
            "cherry\n",
            "banana\n"
          ],
          "name": "stdout"
        }
      ]
    },
    {
      "cell_type": "markdown",
      "metadata": {
        "id": "egeO94Q2LsUE",
        "colab_type": "text"
      },
      "source": [
        "Check if \"banana\" is present in the set:"
      ]
    },
    {
      "cell_type": "code",
      "metadata": {
        "id": "XY5svpi4LMWo",
        "colab_type": "code",
        "colab": {
          "base_uri": "https://localhost:8080/",
          "height": 34
        },
        "outputId": "107a97d8-d241-47f9-c4b5-77b3c3978921"
      },
      "source": [
        "thisset = {\"apple\", \"banana\", \"cherry\"}\n",
        "\n",
        "print(\"banana\" in thisset)"
      ],
      "execution_count": 49,
      "outputs": [
        {
          "output_type": "stream",
          "text": [
            "True\n"
          ],
          "name": "stdout"
        }
      ]
    },
    {
      "cell_type": "markdown",
      "metadata": {
        "id": "qvHM1rGzLx3K",
        "colab_type": "text"
      },
      "source": [
        "**Add Items:**\n",
        "\n",
        "Add an item to a set, using the add() method:"
      ]
    },
    {
      "cell_type": "code",
      "metadata": {
        "id": "lmP7Xh-vLQq7",
        "colab_type": "code",
        "colab": {
          "base_uri": "https://localhost:8080/",
          "height": 34
        },
        "outputId": "f3bdbfcd-bef8-4deb-f89f-a8457ed6053c"
      },
      "source": [
        "thisset = {\"apple\", \"banana\", \"cherry\"}\n",
        "\n",
        "thisset.add(\"orange\")\n",
        "\n",
        "print(thisset)"
      ],
      "execution_count": 50,
      "outputs": [
        {
          "output_type": "stream",
          "text": [
            "{'apple', 'cherry', 'orange', 'banana'}\n"
          ],
          "name": "stdout"
        }
      ]
    },
    {
      "cell_type": "markdown",
      "metadata": {
        "id": "YEhm6aioMChs",
        "colab_type": "text"
      },
      "source": [
        "Add multiple items to a set, using the update() method:"
      ]
    },
    {
      "cell_type": "code",
      "metadata": {
        "id": "GYwwHXCiMAUx",
        "colab_type": "code",
        "colab": {
          "base_uri": "https://localhost:8080/",
          "height": 34
        },
        "outputId": "09c20fd9-2ef3-4e90-edde-58f23fd9ea28"
      },
      "source": [
        "thisset = {\"apple\", \"banana\", \"cherry\"}\n",
        "\n",
        "thisset.update([\"orange\", \"mango\", \"grapes\"])\n",
        "\n",
        "print(thisset)"
      ],
      "execution_count": 51,
      "outputs": [
        {
          "output_type": "stream",
          "text": [
            "{'grapes', 'banana', 'cherry', 'apple', 'orange', 'mango'}\n"
          ],
          "name": "stdout"
        }
      ]
    },
    {
      "cell_type": "markdown",
      "metadata": {
        "id": "lfbx78jNMUbf",
        "colab_type": "text"
      },
      "source": [
        "**Get the Length of a Set:**\n",
        "\n",
        "To determine how many items a set has, use the len() method."
      ]
    },
    {
      "cell_type": "code",
      "metadata": {
        "id": "zucig4gOMAjV",
        "colab_type": "code",
        "colab": {
          "base_uri": "https://localhost:8080/",
          "height": 34
        },
        "outputId": "be192256-7591-4d82-e09b-f2b5b202059d"
      },
      "source": [
        "thisset = {\"apple\", \"banana\", \"cherry\"}\n",
        "\n",
        "print(len(thisset))"
      ],
      "execution_count": 52,
      "outputs": [
        {
          "output_type": "stream",
          "text": [
            "3\n"
          ],
          "name": "stdout"
        }
      ]
    },
    {
      "cell_type": "markdown",
      "metadata": {
        "id": "Xp_CVRqPMnPH",
        "colab_type": "text"
      },
      "source": [
        "**Remove Item**\n",
        "\n",
        "To remove an item in a set, use the remove(), or the discard() method.\n",
        "\n",
        "Remove \"banana\" by using the remove() method:"
      ]
    },
    {
      "cell_type": "code",
      "metadata": {
        "id": "p3hVOY5UMBQZ",
        "colab_type": "code",
        "colab": {
          "base_uri": "https://localhost:8080/",
          "height": 34
        },
        "outputId": "7fc57594-abf4-400e-f9e5-459e2faecf30"
      },
      "source": [
        "thisset = {\"apple\", \"banana\", \"cherry\"}\n",
        "\n",
        "thisset.remove(\"banana\")\n",
        "\n",
        "print(thisset)"
      ],
      "execution_count": 53,
      "outputs": [
        {
          "output_type": "stream",
          "text": [
            "{'apple', 'cherry'}\n"
          ],
          "name": "stdout"
        }
      ]
    },
    {
      "cell_type": "markdown",
      "metadata": {
        "id": "79Zq48ahM7Qy",
        "colab_type": "text"
      },
      "source": [
        "Remove \"banana\" by using the discard() method:"
      ]
    },
    {
      "cell_type": "code",
      "metadata": {
        "id": "lUxy__bzM8cP",
        "colab_type": "code",
        "colab": {
          "base_uri": "https://localhost:8080/",
          "height": 34
        },
        "outputId": "df765227-4dbd-446a-cc1a-afd12fa2d4c1"
      },
      "source": [
        "thisset = {\"apple\", \"banana\", \"cherry\"}\n",
        "\n",
        "thisset.discard(\"banana\")\n",
        "\n",
        "print(thisset)"
      ],
      "execution_count": 54,
      "outputs": [
        {
          "output_type": "stream",
          "text": [
            "{'apple', 'cherry'}\n"
          ],
          "name": "stdout"
        }
      ]
    },
    {
      "cell_type": "markdown",
      "metadata": {
        "id": "2l1f3VDiNF4K",
        "colab_type": "text"
      },
      "source": [
        "**Question 4:**\n",
        "\n",
        "Given a list of n-1 numbers ranging from 1 to n, your task is to find the missing number. There are no duplicates."
      ]
    },
    {
      "cell_type": "code",
      "metadata": {
        "id": "HBpvG_YxNhjh",
        "colab_type": "code",
        "colab": {
          "base_uri": "https://localhost:8080/",
          "height": 70
        },
        "outputId": "e35cf5eb-ac81-41ca-eb1b-22c62c609253"
      },
      "source": [
        "listinput = list(map(int,input('input value : ').split()))\n",
        "for i in range(1,listinput[-1]+1):\n",
        "  if i not in listinput:\n",
        "    print('Missing values are : ',i)"
      ],
      "execution_count": 56,
      "outputs": [
        {
          "output_type": "stream",
          "text": [
            "input value : 1 2 3 4 6 7 9\n",
            "Missing values are :  5\n",
            "Missing values are :  8\n"
          ],
          "name": "stdout"
        }
      ]
    },
    {
      "cell_type": "markdown",
      "metadata": {
        "id": "GxJHnvZBDNpG",
        "colab_type": "text"
      },
      "source": [
        "**Question 5:**\n",
        "\n",
        "With a given list L, write a program to print this list L after removing all duplicate values with original order reserved."
      ]
    },
    {
      "cell_type": "code",
      "metadata": {
        "id": "Uj6TMQVTGOU7",
        "colab_type": "code",
        "colab": {
          "base_uri": "https://localhost:8080/",
          "height": 52
        },
        "outputId": "d2826ce8-d496-4f76-fc08-745df48e930c"
      },
      "source": [
        "def remove_duplicate():\n",
        "    input_list = input('Enter number list seperated by space ' ': ')\n",
        "    list = input_list.split(' ')\n",
        "    input_duplicate_removed = []\n",
        "    for i in list:\n",
        "        if i not in input_duplicate_removed:\n",
        "            input_duplicate_removed.append(i)\n",
        "            \n",
        "    print(' '.join(input_duplicate_removed))\n",
        "remove_duplicate()"
      ],
      "execution_count": 57,
      "outputs": [
        {
          "output_type": "stream",
          "text": [
            "Enter number list seperated by space : 12 24 35 24 88 120 155 88 120 155\n",
            "12 24 35 88 120 155\n"
          ],
          "name": "stdout"
        }
      ]
    }
  ]
}