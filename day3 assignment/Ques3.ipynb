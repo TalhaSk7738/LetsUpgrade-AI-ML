{
  "nbformat": 4,
  "nbformat_minor": 0,
  "metadata": {
    "colab": {
      "name": "Ques3.ipynb",
      "provenance": []
    },
    "kernelspec": {
      "name": "python3",
      "display_name": "Python 3"
    }
  },
  "cells": [
    {
      "cell_type": "markdown",
      "metadata": {
        "id": "IGbkbQzGhOag",
        "colab_type": "text"
      },
      "source": [
        "Swapping two number using Third variable"
      ]
    },
    {
      "cell_type": "code",
      "metadata": {
        "id": "jzUUsrFyf3yG",
        "colab_type": "code",
        "colab": {
          "base_uri": "https://localhost:8080/",
          "height": 51
        },
        "outputId": "15a76df1-efb7-47a2-eece-f139c8c06e97"
      },
      "source": [
        "a = 4.1\n",
        "b = 22\n",
        "print(\"number before swapping are\",a, b)\n",
        "swap = a\n",
        "a = b\n",
        "b = swap\n",
        "print(\"number after swapping are\", a, b)"
      ],
      "execution_count": 5,
      "outputs": [
        {
          "output_type": "stream",
          "text": [
            "number before swapping are 4.1 22\n",
            "number after swapping are 22 4.1\n"
          ],
          "name": "stdout"
        }
      ]
    }
  ]
}