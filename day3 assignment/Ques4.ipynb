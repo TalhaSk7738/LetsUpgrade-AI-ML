{
  "nbformat": 4,
  "nbformat_minor": 0,
  "metadata": {
    "colab": {
      "name": "Ques4.ipynb",
      "provenance": []
    },
    "kernelspec": {
      "name": "python3",
      "display_name": "Python 3"
    }
  },
  "cells": [
    {
      "cell_type": "markdown",
      "metadata": {
        "id": "bZixF5RPjB08",
        "colab_type": "text"
      },
      "source": [
        "Swapping two numbers without third variable"
      ]
    },
    {
      "cell_type": "code",
      "metadata": {
        "id": "Qvyvy4O7h-n4",
        "colab_type": "code",
        "colab": {
          "base_uri": "https://localhost:8080/",
          "height": 51
        },
        "outputId": "974795dd-e212-49ee-8a06-f00fa32ca561"
      },
      "source": [
        "a = 9\n",
        "b = 10\n",
        "print(\"numbers before swapping are\",a, b)\n",
        "a = a+b\n",
        "b = a-b\n",
        "a = a-b\n",
        "print(\"numbers after swapping are\",a, b)"
      ],
      "execution_count": 2,
      "outputs": [
        {
          "output_type": "stream",
          "text": [
            "number before swapping are 9 10\n",
            "number after swapping are 10 9\n"
          ],
          "name": "stdout"
        }
      ]
    }
  ]
}