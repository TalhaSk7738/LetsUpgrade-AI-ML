{
  "nbformat": 4,
  "nbformat_minor": 0,
  "metadata": {
    "colab": {
      "name": "Ques1.ipynb",
      "provenance": [],
      "collapsed_sections": []
    },
    "kernelspec": {
      "name": "python3",
      "display_name": "Python 3"
    }
  },
  "cells": [
    {
      "cell_type": "markdown",
      "metadata": {
        "id": "DUxw6YkidxlF",
        "colab_type": "text"
      },
      "source": [
        "Substraction of 2 complex numbers"
      ]
    },
    {
      "cell_type": "code",
      "metadata": {
        "id": "Y3HapG2HdBru",
        "colab_type": "code",
        "colab": {
          "base_uri": "https://localhost:8080/",
          "height": 68
        },
        "outputId": "9aec5ecd-1a69-4db7-ca3f-5c48592ebed3"
      },
      "source": [
        "a = 2+3j\n",
        "b = 4+9j\n",
        "c = a-b\n",
        "print(\"a is of type\",(type(a)))\n",
        "print(\"b is of type\",(type(b)))\n",
        "print(\"first no is\",a,\"second no. is\",b, \"substraction of a and b is\",c)\n"
      ],
      "execution_count": 7,
      "outputs": [
        {
          "output_type": "stream",
          "text": [
            "a is of type <class 'complex'>\n",
            "b is of type <class 'complex'>\n",
            "first no is (2+3j) second no. is (4+9j) substraction of a and b is (-2-6j)\n"
          ],
          "name": "stdout"
        }
      ]
    }
  ]
}