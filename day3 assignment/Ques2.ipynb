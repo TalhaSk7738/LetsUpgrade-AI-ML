{
  "nbformat": 4,
  "nbformat_minor": 0,
  "metadata": {
    "colab": {
      "name": "Untitled2.ipynb",
      "provenance": []
    },
    "kernelspec": {
      "name": "python3",
      "display_name": "Python 3"
    }
  },
  "cells": [
    {
      "cell_type": "markdown",
      "metadata": {
        "id": "KXgfPki-lzec",
        "colab_type": "text"
      },
      "source": [
        "**To find fourth root of a number**"
      ]
    },
    {
      "cell_type": "code",
      "metadata": {
        "id": "17k9RAN7lPUV",
        "colab_type": "code",
        "colab": {
          "base_uri": "https://localhost:8080/",
          "height": 34
        },
        "outputId": "cd199b65-dad9-426e-fa58-869ff1c51679"
      },
      "source": [
        "a = 625\n",
        "b = a**(1/4)\n",
        "print(\"fourth root of\",a,\" is\",b)"
      ],
      "execution_count": 5,
      "outputs": [
        {
          "output_type": "stream",
          "text": [
            "fourth root of 625  is 5.0\n"
          ],
          "name": "stdout"
        }
      ]
    }
  ]
}