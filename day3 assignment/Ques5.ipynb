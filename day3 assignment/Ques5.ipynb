{
  "nbformat": 4,
  "nbformat_minor": 0,
  "metadata": {
    "colab": {
      "name": "Untitled1.ipynb",
      "provenance": [],
      "collapsed_sections": []
    },
    "kernelspec": {
      "name": "python3",
      "display_name": "Python 3"
    }
  },
  "cells": [
    {
      "cell_type": "markdown",
      "metadata": {
        "id": "ijZcymSuzsuY",
        "colab_type": "text"
      },
      "source": [
        "**fahrenheit** to **celsius** and **kelvin**"
      ]
    },
    {
      "cell_type": "code",
      "metadata": {
        "id": "pf8YdMLkjjGg",
        "colab_type": "code",
        "colab": {
          "base_uri": "https://localhost:8080/",
          "height": 68
        },
        "outputId": "3719aa98-4351-4f18-e801-91fe253226f3"
      },
      "source": [
        "f = 100\n",
        "c = (f-32)*5/9\n",
        "k = (f +459.67)*5/9\n",
        "print(\"Temperture in fahrenheit is\",f)\n",
        "print(\"Temperture in celsius is\",c)\n",
        "print(\"Temperture in kelvin is\",k)"
      ],
      "execution_count": 8,
      "outputs": [
        {
          "output_type": "stream",
          "text": [
            "Temperture in fahrenheit is 100\n",
            "Temperture in celsius is 37.77777777777778\n",
            "Temperture in kelvin is 310.9277777777778\n"
          ],
          "name": "stdout"
        }
      ]
    }
  ]
}