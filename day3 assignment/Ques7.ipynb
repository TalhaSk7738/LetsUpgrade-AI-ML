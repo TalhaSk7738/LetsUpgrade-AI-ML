{
  "nbformat": 4,
  "nbformat_minor": 0,
  "metadata": {
    "colab": {
      "name": "Ques7.ipynb",
      "provenance": []
    },
    "kernelspec": {
      "name": "python3",
      "display_name": "Python 3"
    }
  },
  "cells": [
    {
      "cell_type": "markdown",
      "metadata": {
        "id": "KXgfPki-lzec",
        "colab_type": "text"
      },
      "source": [
        "**STEPS TO CREATE GITHUB PROFILE AND UPLOAD GITHUB ASSIGNMENT LINK**"
      ]
    },
    {
      "cell_type": "markdown",
      "metadata": {
        "id": "QHb7OO4BojBo",
        "colab_type": "text"
      },
      "source": [
        "(1)Open github.com and create your profile\n",
        "\n",
        "(2)Click on new repository\n",
        "\n",
        "(3)Give a name to your repository which should be LetsUpgrade AI-ML and with the default settings click on create repository.\n",
        "\n",
        "(4)Now in the opened page click on upload an existing file link.\n",
        "\n",
        "(5)On clicking that, drag and drop your file into it and click on commit changes.\n",
        "\n",
        "(5)Now your file is successfully uploaded."
      ]
    }
  ]
}