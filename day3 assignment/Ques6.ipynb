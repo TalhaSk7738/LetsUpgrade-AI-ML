{
  "nbformat": 4,
  "nbformat_minor": 0,
  "metadata": {
    "colab": {
      "name": "Ques6.ipynb",
      "provenance": []
    },
    "kernelspec": {
      "name": "python3",
      "display_name": "Python 3"
    }
  },
  "cells": [
    {
      "cell_type": "markdown",
      "metadata": {
        "id": "KXgfPki-lzec",
        "colab_type": "text"
      },
      "source": [
        "**data types in Python**"
      ]
    },
    {
      "cell_type": "code",
      "metadata": {
        "id": "ZZi0OQAYmWMU",
        "colab_type": "code",
        "colab": {
          "base_uri": "https://localhost:8080/",
          "height": 136
        },
        "outputId": "f4eecefa-2d67-45fa-a014-c8be9c5e329d"
      },
      "source": [
        "a = 99\n",
        "b = 8.99\n",
        "c = 2+3j\n",
        "d = \"Priyanka Tomar\"\n",
        "e = [\"Priyanka\",\"Tomar\"]\n",
        "f = (\"Priynaka\",\"tomar\")\n",
        "g = {\"Name\":\"Priyanka\",\"Course\":\"AI-ML\",\"Offered by\":\"Lets Upgarde\"}\n",
        "\n",
        "print(type(a))\n",
        "print(type(b))\n",
        "print(type(c))\n",
        "print(type(d))\n",
        "print(type(e))\n",
        "print(type(f))\n",
        "print(type(g))"
      ],
      "execution_count": 9,
      "outputs": [
        {
          "output_type": "stream",
          "text": [
            "<class 'int'>\n",
            "<class 'float'>\n",
            "<class 'complex'>\n",
            "<class 'str'>\n",
            "<class 'list'>\n",
            "<class 'tuple'>\n",
            "<class 'dict'>\n"
          ],
          "name": "stdout"
        }
      ]
    }
  ]
}